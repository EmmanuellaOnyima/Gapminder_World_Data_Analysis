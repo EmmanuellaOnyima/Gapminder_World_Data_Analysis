{
 "cells": [
  {
   "cell_type": "markdown",
   "id": "b2c48979",
   "metadata": {},
   "source": [
    "# Project: Investigate a dataset (Gapminder World datasets!)\n",
    "\n",
    "###    *By Emmanuella Onyima*\n",
    "\n",
    "## Table of Content\n",
    "\n",
    ">- [Introduction]()\n",
    ">- [Data Wrangling]()\n",
    ">- [Exploratory Data Analysis]()\n",
    ">- [Conclusion]()"
   ]
  },
  {
   "cell_type": "markdown",
   "id": "347e143d",
   "metadata": {},
   "source": [
    "## Introduction\n",
    "> In this report, three datasets were used as indicators, to observe trends and growth of different countries, in respect to the selected indicators, over a period of twenty years (2000 - 2019).\n",
    "\n",
    "> These indicators will be used to answer the following questions:\n",
    ">- What country has the highest population growth?\n",
    ">- What countries had the highest and lowest breast cancer rates?\n",
    ">- what countries had the highest and lowest female employments?\n",
    ">- Are there any correlations between these three indicators?\n",
    "\n",
    "\n",
    "> These datasets were downloaded from the [Gapminder world website](http://www.gapminder.org/data/), a website that has collected a lot of information about how people live their lives in different countries, tracked across the years, and on a number of different indicators. \n",
    "\n",
    "> **The three indicator datasets includes**:\n",
    "\n",
    ">- **Population**: this is the total population records of each country for each given year. \n",
    ">- **Female_employment**: this is the percentage of female population, age group 15-24 that has been employed during the given year.\n",
    ">- **Breast_cancer**: total number of new female cases of breast cancer during the certain year.\n"
   ]
  },
  {
   "cell_type": "markdown",
   "id": "df117748",
   "metadata": {},
   "source": [
    ">Its time to dive into our datasets to clean, organize, explore and answer questions. "
   ]
  },
  {
   "cell_type": "code",
   "execution_count": 2,
   "id": "b6292509",
   "metadata": {},
   "outputs": [],
   "source": [
    "#importing all modules and command lines\n",
    "import pandas as pd\n",
    "import matplotlib.pyplot as plt\n",
    "import numpy as np\n",
    "\n",
    "#Magic command\n",
    "%matplotlib inline"
   ]
  },
  {
   "cell_type": "markdown",
   "id": "223ec185",
   "metadata": {},
   "source": [
    "# Data Wrangling"
   ]
  },
  {
   "cell_type": "markdown",
   "id": "01cb5a0d",
   "metadata": {},
   "source": [
    ">First we start by loading our datasets."
   ]
  },
  {
   "cell_type": "markdown",
   "id": "912b2093",
   "metadata": {},
   "source": [
    "### General properties"
   ]
  },
  {
   "cell_type": "code",
   "execution_count": 3,
   "id": "f0e3eb43",
   "metadata": {},
   "outputs": [],
   "source": [
    "# loading the datasets\n",
    "population = pd.read_csv('population_total.csv')\n",
    "breast_cancer = pd.read_csv('breast_cancer_number_of_new_female_cases.csv')\n",
    "female_employment = pd.read_csv('females_aged_15_24_employment_rate_percent.csv') \n"
   ]
  },
  {
   "cell_type": "code",
   "execution_count": 4,
   "id": "183a6f64",
   "metadata": {},
   "outputs": [
    {
     "data": {
      "text/html": [
       "<div>\n",
       "<style scoped>\n",
       "    .dataframe tbody tr th:only-of-type {\n",
       "        vertical-align: middle;\n",
       "    }\n",
       "\n",
       "    .dataframe tbody tr th {\n",
       "        vertical-align: top;\n",
       "    }\n",
       "\n",
       "    .dataframe thead th {\n",
       "        text-align: right;\n",
       "    }\n",
       "</style>\n",
       "<table border=\"1\" class=\"dataframe\">\n",
       "  <thead>\n",
       "    <tr style=\"text-align: right;\">\n",
       "      <th></th>\n",
       "      <th>country</th>\n",
       "      <th>1800</th>\n",
       "      <th>1801</th>\n",
       "      <th>1802</th>\n",
       "      <th>1803</th>\n",
       "      <th>1804</th>\n",
       "      <th>1805</th>\n",
       "      <th>1806</th>\n",
       "      <th>1807</th>\n",
       "      <th>1808</th>\n",
       "      <th>...</th>\n",
       "      <th>2091</th>\n",
       "      <th>2092</th>\n",
       "      <th>2093</th>\n",
       "      <th>2094</th>\n",
       "      <th>2095</th>\n",
       "      <th>2096</th>\n",
       "      <th>2097</th>\n",
       "      <th>2098</th>\n",
       "      <th>2099</th>\n",
       "      <th>2100</th>\n",
       "    </tr>\n",
       "  </thead>\n",
       "  <tbody>\n",
       "    <tr>\n",
       "      <th>0</th>\n",
       "      <td>Afghanistan</td>\n",
       "      <td>3.28M</td>\n",
       "      <td>3.28M</td>\n",
       "      <td>3.28M</td>\n",
       "      <td>3.28M</td>\n",
       "      <td>3.28M</td>\n",
       "      <td>3.28M</td>\n",
       "      <td>3.28M</td>\n",
       "      <td>3.28M</td>\n",
       "      <td>3.28M</td>\n",
       "      <td>...</td>\n",
       "      <td>76.6M</td>\n",
       "      <td>76.4M</td>\n",
       "      <td>76.3M</td>\n",
       "      <td>76.1M</td>\n",
       "      <td>76M</td>\n",
       "      <td>75.8M</td>\n",
       "      <td>75.6M</td>\n",
       "      <td>75.4M</td>\n",
       "      <td>75.2M</td>\n",
       "      <td>74.9M</td>\n",
       "    </tr>\n",
       "    <tr>\n",
       "      <th>1</th>\n",
       "      <td>Angola</td>\n",
       "      <td>1.57M</td>\n",
       "      <td>1.57M</td>\n",
       "      <td>1.57M</td>\n",
       "      <td>1.57M</td>\n",
       "      <td>1.57M</td>\n",
       "      <td>1.57M</td>\n",
       "      <td>1.57M</td>\n",
       "      <td>1.57M</td>\n",
       "      <td>1.57M</td>\n",
       "      <td>...</td>\n",
       "      <td>168M</td>\n",
       "      <td>170M</td>\n",
       "      <td>172M</td>\n",
       "      <td>175M</td>\n",
       "      <td>177M</td>\n",
       "      <td>179M</td>\n",
       "      <td>182M</td>\n",
       "      <td>184M</td>\n",
       "      <td>186M</td>\n",
       "      <td>188M</td>\n",
       "    </tr>\n",
       "  </tbody>\n",
       "</table>\n",
       "<p>2 rows × 302 columns</p>\n",
       "</div>"
      ],
      "text/plain": [
       "       country   1800   1801   1802   1803   1804   1805   1806   1807   1808  \\\n",
       "0  Afghanistan  3.28M  3.28M  3.28M  3.28M  3.28M  3.28M  3.28M  3.28M  3.28M   \n",
       "1       Angola  1.57M  1.57M  1.57M  1.57M  1.57M  1.57M  1.57M  1.57M  1.57M   \n",
       "\n",
       "   ...   2091   2092   2093   2094  2095   2096   2097   2098   2099   2100  \n",
       "0  ...  76.6M  76.4M  76.3M  76.1M   76M  75.8M  75.6M  75.4M  75.2M  74.9M  \n",
       "1  ...   168M   170M   172M   175M  177M   179M   182M   184M   186M   188M  \n",
       "\n",
       "[2 rows x 302 columns]"
      ]
     },
     "execution_count": 4,
     "metadata": {},
     "output_type": "execute_result"
    }
   ],
   "source": [
    "#printing the first two lines of the population dataset\n",
    "population.head(2)"
   ]
  },
  {
   "cell_type": "code",
   "execution_count": 5,
   "id": "e5a437bd",
   "metadata": {},
   "outputs": [
    {
     "data": {
      "text/html": [
       "<div>\n",
       "<style scoped>\n",
       "    .dataframe tbody tr th:only-of-type {\n",
       "        vertical-align: middle;\n",
       "    }\n",
       "\n",
       "    .dataframe tbody tr th {\n",
       "        vertical-align: top;\n",
       "    }\n",
       "\n",
       "    .dataframe thead th {\n",
       "        text-align: right;\n",
       "    }\n",
       "</style>\n",
       "<table border=\"1\" class=\"dataframe\">\n",
       "  <thead>\n",
       "    <tr style=\"text-align: right;\">\n",
       "      <th></th>\n",
       "      <th>country</th>\n",
       "      <th>1990</th>\n",
       "      <th>1991</th>\n",
       "      <th>1992</th>\n",
       "      <th>1993</th>\n",
       "      <th>1994</th>\n",
       "      <th>1995</th>\n",
       "      <th>1996</th>\n",
       "      <th>1997</th>\n",
       "      <th>1998</th>\n",
       "      <th>...</th>\n",
       "      <th>2010</th>\n",
       "      <th>2011</th>\n",
       "      <th>2012</th>\n",
       "      <th>2013</th>\n",
       "      <th>2014</th>\n",
       "      <th>2015</th>\n",
       "      <th>2016</th>\n",
       "      <th>2017</th>\n",
       "      <th>2018</th>\n",
       "      <th>2019</th>\n",
       "    </tr>\n",
       "  </thead>\n",
       "  <tbody>\n",
       "    <tr>\n",
       "      <th>0</th>\n",
       "      <td>Afghanistan</td>\n",
       "      <td>644</td>\n",
       "      <td>661</td>\n",
       "      <td>694</td>\n",
       "      <td>726</td>\n",
       "      <td>748</td>\n",
       "      <td>761</td>\n",
       "      <td>776</td>\n",
       "      <td>794</td>\n",
       "      <td>809</td>\n",
       "      <td>...</td>\n",
       "      <td>1260</td>\n",
       "      <td>1330</td>\n",
       "      <td>1400</td>\n",
       "      <td>1470</td>\n",
       "      <td>1530</td>\n",
       "      <td>1590</td>\n",
       "      <td>1680</td>\n",
       "      <td>1770</td>\n",
       "      <td>1870</td>\n",
       "      <td>1950</td>\n",
       "    </tr>\n",
       "    <tr>\n",
       "      <th>1</th>\n",
       "      <td>Angola</td>\n",
       "      <td>383</td>\n",
       "      <td>400</td>\n",
       "      <td>421</td>\n",
       "      <td>447</td>\n",
       "      <td>470</td>\n",
       "      <td>484</td>\n",
       "      <td>487</td>\n",
       "      <td>509</td>\n",
       "      <td>553</td>\n",
       "      <td>...</td>\n",
       "      <td>1100</td>\n",
       "      <td>1180</td>\n",
       "      <td>1250</td>\n",
       "      <td>1310</td>\n",
       "      <td>1360</td>\n",
       "      <td>1460</td>\n",
       "      <td>1560</td>\n",
       "      <td>1690</td>\n",
       "      <td>1820</td>\n",
       "      <td>1940</td>\n",
       "    </tr>\n",
       "  </tbody>\n",
       "</table>\n",
       "<p>2 rows × 31 columns</p>\n",
       "</div>"
      ],
      "text/plain": [
       "       country 1990 1991 1992 1993 1994 1995 1996 1997 1998  ...  2010  2011  \\\n",
       "0  Afghanistan  644  661  694  726  748  761  776  794  809  ...  1260  1330   \n",
       "1       Angola  383  400  421  447  470  484  487  509  553  ...  1100  1180   \n",
       "\n",
       "   2012  2013  2014  2015  2016  2017  2018  2019  \n",
       "0  1400  1470  1530  1590  1680  1770  1870  1950  \n",
       "1  1250  1310  1360  1460  1560  1690  1820  1940  \n",
       "\n",
       "[2 rows x 31 columns]"
      ]
     },
     "execution_count": 5,
     "metadata": {},
     "output_type": "execute_result"
    }
   ],
   "source": [
    "#printing the first two lines of the breast_cancer dataset\n",
    "breast_cancer.head(2)"
   ]
  },
  {
   "cell_type": "code",
   "execution_count": 6,
   "id": "027fbde4",
   "metadata": {},
   "outputs": [
    {
     "data": {
      "text/html": [
       "<div>\n",
       "<style scoped>\n",
       "    .dataframe tbody tr th:only-of-type {\n",
       "        vertical-align: middle;\n",
       "    }\n",
       "\n",
       "    .dataframe tbody tr th {\n",
       "        vertical-align: top;\n",
       "    }\n",
       "\n",
       "    .dataframe thead th {\n",
       "        text-align: right;\n",
       "    }\n",
       "</style>\n",
       "<table border=\"1\" class=\"dataframe\">\n",
       "  <thead>\n",
       "    <tr style=\"text-align: right;\">\n",
       "      <th></th>\n",
       "      <th>country</th>\n",
       "      <th>1991</th>\n",
       "      <th>1992</th>\n",
       "      <th>1993</th>\n",
       "      <th>1994</th>\n",
       "      <th>1995</th>\n",
       "      <th>1996</th>\n",
       "      <th>1997</th>\n",
       "      <th>1998</th>\n",
       "      <th>1999</th>\n",
       "      <th>...</th>\n",
       "      <th>2010</th>\n",
       "      <th>2011</th>\n",
       "      <th>2012</th>\n",
       "      <th>2013</th>\n",
       "      <th>2014</th>\n",
       "      <th>2015</th>\n",
       "      <th>2016</th>\n",
       "      <th>2017</th>\n",
       "      <th>2018</th>\n",
       "      <th>2019</th>\n",
       "    </tr>\n",
       "  </thead>\n",
       "  <tbody>\n",
       "    <tr>\n",
       "      <th>0</th>\n",
       "      <td>Afghanistan</td>\n",
       "      <td>11.1</td>\n",
       "      <td>11.1</td>\n",
       "      <td>11.1</td>\n",
       "      <td>11.0</td>\n",
       "      <td>11.0</td>\n",
       "      <td>10.9</td>\n",
       "      <td>10.7</td>\n",
       "      <td>10.7</td>\n",
       "      <td>10.6</td>\n",
       "      <td>...</td>\n",
       "      <td>10.8</td>\n",
       "      <td>11.2</td>\n",
       "      <td>11.6</td>\n",
       "      <td>12.3</td>\n",
       "      <td>13.1</td>\n",
       "      <td>13.8</td>\n",
       "      <td>14.7</td>\n",
       "      <td>15.6</td>\n",
       "      <td>15.9</td>\n",
       "      <td>16.3</td>\n",
       "    </tr>\n",
       "    <tr>\n",
       "      <th>1</th>\n",
       "      <td>Angola</td>\n",
       "      <td>55.8</td>\n",
       "      <td>55.7</td>\n",
       "      <td>55.8</td>\n",
       "      <td>55.8</td>\n",
       "      <td>55.7</td>\n",
       "      <td>55.6</td>\n",
       "      <td>55.7</td>\n",
       "      <td>55.5</td>\n",
       "      <td>55.3</td>\n",
       "      <td>...</td>\n",
       "      <td>46.4</td>\n",
       "      <td>49.2</td>\n",
       "      <td>49.1</td>\n",
       "      <td>49.1</td>\n",
       "      <td>49.1</td>\n",
       "      <td>49.1</td>\n",
       "      <td>49.2</td>\n",
       "      <td>49.1</td>\n",
       "      <td>49.0</td>\n",
       "      <td>48.8</td>\n",
       "    </tr>\n",
       "  </tbody>\n",
       "</table>\n",
       "<p>2 rows × 30 columns</p>\n",
       "</div>"
      ],
      "text/plain": [
       "       country  1991  1992  1993  1994  1995  1996  1997  1998  1999  ...  \\\n",
       "0  Afghanistan  11.1  11.1  11.1  11.0  11.0  10.9  10.7  10.7  10.6  ...   \n",
       "1       Angola  55.8  55.7  55.8  55.8  55.7  55.6  55.7  55.5  55.3  ...   \n",
       "\n",
       "   2010  2011  2012  2013  2014  2015  2016  2017  2018  2019  \n",
       "0  10.8  11.2  11.6  12.3  13.1  13.8  14.7  15.6  15.9  16.3  \n",
       "1  46.4  49.2  49.1  49.1  49.1  49.1  49.2  49.1  49.0  48.8  \n",
       "\n",
       "[2 rows x 30 columns]"
      ]
     },
     "execution_count": 6,
     "metadata": {},
     "output_type": "execute_result"
    }
   ],
   "source": [
    "#printing the first two lines of the female_employment dataset\n",
    "female_employment.head(2)"
   ]
  },
  {
   "cell_type": "markdown",
   "id": "0ffe9c25",
   "metadata": {},
   "source": [
    "> The numbered columns represents the years the records were taken. For this analysis, we would be working with the year range of 2000 - 2019.\n",
    "\n",
    "> For a better understanding of our data, we would also be reshaping our data's heading into a row.\n",
    "\n",
    "> Let's take a deep look into our datasets."
   ]
  },
  {
   "cell_type": "code",
   "execution_count": 6,
   "id": "444e2943",
   "metadata": {},
   "outputs": [
    {
     "data": {
      "text/plain": [
       "(197, 302)"
      ]
     },
     "execution_count": 6,
     "metadata": {},
     "output_type": "execute_result"
    }
   ],
   "source": [
    "#observe the shape of the population dataset\n",
    "population.shape"
   ]
  },
  {
   "cell_type": "code",
   "execution_count": 7,
   "id": "8cb3f375",
   "metadata": {},
   "outputs": [
    {
     "data": {
      "text/plain": [
       "(206, 31)"
      ]
     },
     "execution_count": 7,
     "metadata": {},
     "output_type": "execute_result"
    }
   ],
   "source": [
    "#check the shape of the breast_cancer dataset\n",
    "breast_cancer.shape"
   ]
  },
  {
   "cell_type": "code",
   "execution_count": 8,
   "id": "e9c5884b",
   "metadata": {},
   "outputs": [
    {
     "data": {
      "text/plain": [
       "(189, 30)"
      ]
     },
     "execution_count": 8,
     "metadata": {},
     "output_type": "execute_result"
    }
   ],
   "source": [
    "#check the shape of the female_employment dataset\n",
    "female_employment.shape"
   ]
  },
  {
   "cell_type": "markdown",
   "id": "a32f75e6",
   "metadata": {},
   "source": [
    ">The ***.shape*** function displays the number of rows and columns in each dataset. This indicates that there are inconsistencies in the number of row and columns of the three datasets, with the population data having the highest number of columns."
   ]
  },
  {
   "cell_type": "markdown",
   "id": "d93c42d5",
   "metadata": {},
   "source": [
    "> To join the four datasets, we would need to drop the years columns not within the 1999 - 2019 range"
   ]
  },
  {
   "cell_type": "code",
   "execution_count": 7,
   "id": "fad59453",
   "metadata": {},
   "outputs": [],
   "source": [
    "#dropping the columns that are not needed in the population dataset\n",
    "population.drop(population.loc[:, '1800':'1999'], axis = 1, inplace = True)\n",
    "population.drop(population.loc[:, '2020':], axis = 1, inplace = True)"
   ]
  },
  {
   "cell_type": "code",
   "execution_count": 8,
   "id": "368632d6",
   "metadata": {},
   "outputs": [],
   "source": [
    "#dropping the columns that are not needed in the breast_cancer dataset\n",
    "breast_cancer.drop(breast_cancer.loc[:, '1990':'1999'], axis = 1, inplace =True)"
   ]
  },
  {
   "cell_type": "code",
   "execution_count": 9,
   "id": "c8fcac0e",
   "metadata": {},
   "outputs": [],
   "source": [
    "#dropping the columns that are not needed in the female_employment dataset\n",
    "female_employment.drop(female_employment.loc[:, '1991':'1999'], axis = 1, inplace = True)"
   ]
  },
  {
   "cell_type": "code",
   "execution_count": 10,
   "id": "1deedd2a",
   "metadata": {},
   "outputs": [
    {
     "data": {
      "text/html": [
       "<div>\n",
       "<style scoped>\n",
       "    .dataframe tbody tr th:only-of-type {\n",
       "        vertical-align: middle;\n",
       "    }\n",
       "\n",
       "    .dataframe tbody tr th {\n",
       "        vertical-align: top;\n",
       "    }\n",
       "\n",
       "    .dataframe thead th {\n",
       "        text-align: right;\n",
       "    }\n",
       "</style>\n",
       "<table border=\"1\" class=\"dataframe\">\n",
       "  <thead>\n",
       "    <tr style=\"text-align: right;\">\n",
       "      <th></th>\n",
       "      <th>country</th>\n",
       "      <th>2000</th>\n",
       "      <th>2001</th>\n",
       "      <th>2002</th>\n",
       "      <th>2003</th>\n",
       "      <th>2004</th>\n",
       "      <th>2005</th>\n",
       "      <th>2006</th>\n",
       "      <th>2007</th>\n",
       "      <th>2008</th>\n",
       "      <th>...</th>\n",
       "      <th>2010</th>\n",
       "      <th>2011</th>\n",
       "      <th>2012</th>\n",
       "      <th>2013</th>\n",
       "      <th>2014</th>\n",
       "      <th>2015</th>\n",
       "      <th>2016</th>\n",
       "      <th>2017</th>\n",
       "      <th>2018</th>\n",
       "      <th>2019</th>\n",
       "    </tr>\n",
       "  </thead>\n",
       "  <tbody>\n",
       "    <tr>\n",
       "      <th>0</th>\n",
       "      <td>Afghanistan</td>\n",
       "      <td>20.8M</td>\n",
       "      <td>21.6M</td>\n",
       "      <td>22.6M</td>\n",
       "      <td>23.7M</td>\n",
       "      <td>24.7M</td>\n",
       "      <td>25.7M</td>\n",
       "      <td>26.4M</td>\n",
       "      <td>27.1M</td>\n",
       "      <td>27.7M</td>\n",
       "      <td>...</td>\n",
       "      <td>29.2M</td>\n",
       "      <td>30.1M</td>\n",
       "      <td>31.2M</td>\n",
       "      <td>32.3M</td>\n",
       "      <td>33.4M</td>\n",
       "      <td>34.4M</td>\n",
       "      <td>35.4M</td>\n",
       "      <td>36.3M</td>\n",
       "      <td>37.2M</td>\n",
       "      <td>38M</td>\n",
       "    </tr>\n",
       "    <tr>\n",
       "      <th>1</th>\n",
       "      <td>Angola</td>\n",
       "      <td>16.4M</td>\n",
       "      <td>16.9M</td>\n",
       "      <td>17.5M</td>\n",
       "      <td>18.1M</td>\n",
       "      <td>18.8M</td>\n",
       "      <td>19.4M</td>\n",
       "      <td>20.1M</td>\n",
       "      <td>20.9M</td>\n",
       "      <td>21.7M</td>\n",
       "      <td>...</td>\n",
       "      <td>23.4M</td>\n",
       "      <td>24.2M</td>\n",
       "      <td>25.1M</td>\n",
       "      <td>26M</td>\n",
       "      <td>26.9M</td>\n",
       "      <td>27.9M</td>\n",
       "      <td>28.8M</td>\n",
       "      <td>29.8M</td>\n",
       "      <td>30.8M</td>\n",
       "      <td>31.8M</td>\n",
       "    </tr>\n",
       "    <tr>\n",
       "      <th>2</th>\n",
       "      <td>Albania</td>\n",
       "      <td>3.13M</td>\n",
       "      <td>3.13M</td>\n",
       "      <td>3.13M</td>\n",
       "      <td>3.12M</td>\n",
       "      <td>3.1M</td>\n",
       "      <td>3.09M</td>\n",
       "      <td>3.06M</td>\n",
       "      <td>3.03M</td>\n",
       "      <td>3M</td>\n",
       "      <td>...</td>\n",
       "      <td>2.95M</td>\n",
       "      <td>2.93M</td>\n",
       "      <td>2.91M</td>\n",
       "      <td>2.9M</td>\n",
       "      <td>2.9M</td>\n",
       "      <td>2.89M</td>\n",
       "      <td>2.89M</td>\n",
       "      <td>2.88M</td>\n",
       "      <td>2.88M</td>\n",
       "      <td>2.88M</td>\n",
       "    </tr>\n",
       "    <tr>\n",
       "      <th>3</th>\n",
       "      <td>Andorra</td>\n",
       "      <td>65.4k</td>\n",
       "      <td>67.3k</td>\n",
       "      <td>70k</td>\n",
       "      <td>73.2k</td>\n",
       "      <td>76.3k</td>\n",
       "      <td>78.9k</td>\n",
       "      <td>81k</td>\n",
       "      <td>82.7k</td>\n",
       "      <td>83.9k</td>\n",
       "      <td>...</td>\n",
       "      <td>84.5k</td>\n",
       "      <td>83.7k</td>\n",
       "      <td>82.4k</td>\n",
       "      <td>80.8k</td>\n",
       "      <td>79.2k</td>\n",
       "      <td>78k</td>\n",
       "      <td>77.3k</td>\n",
       "      <td>77k</td>\n",
       "      <td>77k</td>\n",
       "      <td>77.1k</td>\n",
       "    </tr>\n",
       "    <tr>\n",
       "      <th>4</th>\n",
       "      <td>United Arab Emirates</td>\n",
       "      <td>3.13M</td>\n",
       "      <td>3.3M</td>\n",
       "      <td>3.48M</td>\n",
       "      <td>3.71M</td>\n",
       "      <td>4.07M</td>\n",
       "      <td>4.59M</td>\n",
       "      <td>5.3M</td>\n",
       "      <td>6.17M</td>\n",
       "      <td>7.09M</td>\n",
       "      <td>...</td>\n",
       "      <td>8.55M</td>\n",
       "      <td>8.95M</td>\n",
       "      <td>9.14M</td>\n",
       "      <td>9.2M</td>\n",
       "      <td>9.21M</td>\n",
       "      <td>9.26M</td>\n",
       "      <td>9.36M</td>\n",
       "      <td>9.49M</td>\n",
       "      <td>9.63M</td>\n",
       "      <td>9.77M</td>\n",
       "    </tr>\n",
       "  </tbody>\n",
       "</table>\n",
       "<p>5 rows × 21 columns</p>\n",
       "</div>"
      ],
      "text/plain": [
       "                country   2000   2001   2002   2003   2004   2005   2006  \\\n",
       "0           Afghanistan  20.8M  21.6M  22.6M  23.7M  24.7M  25.7M  26.4M   \n",
       "1                Angola  16.4M  16.9M  17.5M  18.1M  18.8M  19.4M  20.1M   \n",
       "2               Albania  3.13M  3.13M  3.13M  3.12M   3.1M  3.09M  3.06M   \n",
       "3               Andorra  65.4k  67.3k    70k  73.2k  76.3k  78.9k    81k   \n",
       "4  United Arab Emirates  3.13M   3.3M  3.48M  3.71M  4.07M  4.59M   5.3M   \n",
       "\n",
       "    2007   2008  ...   2010   2011   2012   2013   2014   2015   2016   2017  \\\n",
       "0  27.1M  27.7M  ...  29.2M  30.1M  31.2M  32.3M  33.4M  34.4M  35.4M  36.3M   \n",
       "1  20.9M  21.7M  ...  23.4M  24.2M  25.1M    26M  26.9M  27.9M  28.8M  29.8M   \n",
       "2  3.03M     3M  ...  2.95M  2.93M  2.91M   2.9M   2.9M  2.89M  2.89M  2.88M   \n",
       "3  82.7k  83.9k  ...  84.5k  83.7k  82.4k  80.8k  79.2k    78k  77.3k    77k   \n",
       "4  6.17M  7.09M  ...  8.55M  8.95M  9.14M   9.2M  9.21M  9.26M  9.36M  9.49M   \n",
       "\n",
       "    2018   2019  \n",
       "0  37.2M    38M  \n",
       "1  30.8M  31.8M  \n",
       "2  2.88M  2.88M  \n",
       "3    77k  77.1k  \n",
       "4  9.63M  9.77M  \n",
       "\n",
       "[5 rows x 21 columns]"
      ]
     },
     "execution_count": 10,
     "metadata": {},
     "output_type": "execute_result"
    }
   ],
   "source": [
    "#rechecking the first few lines of the population dataset\n",
    "population.head()"
   ]
  },
  {
   "cell_type": "markdown",
   "id": "889b7035",
   "metadata": {},
   "source": [
    ">The next step is to reshape the datasets "
   ]
  },
  {
   "cell_type": "code",
   "execution_count": 11,
   "id": "0cb7dfcd",
   "metadata": {},
   "outputs": [
    {
     "data": {
      "text/html": [
       "<div>\n",
       "<style scoped>\n",
       "    .dataframe tbody tr th:only-of-type {\n",
       "        vertical-align: middle;\n",
       "    }\n",
       "\n",
       "    .dataframe tbody tr th {\n",
       "        vertical-align: top;\n",
       "    }\n",
       "\n",
       "    .dataframe thead th {\n",
       "        text-align: right;\n",
       "    }\n",
       "</style>\n",
       "<table border=\"1\" class=\"dataframe\">\n",
       "  <thead>\n",
       "    <tr style=\"text-align: right;\">\n",
       "      <th></th>\n",
       "      <th>country</th>\n",
       "      <th>year</th>\n",
       "      <th>population</th>\n",
       "    </tr>\n",
       "  </thead>\n",
       "  <tbody>\n",
       "    <tr>\n",
       "      <th>0</th>\n",
       "      <td>Afghanistan</td>\n",
       "      <td>2000</td>\n",
       "      <td>20.8M</td>\n",
       "    </tr>\n",
       "    <tr>\n",
       "      <th>1</th>\n",
       "      <td>Angola</td>\n",
       "      <td>2000</td>\n",
       "      <td>16.4M</td>\n",
       "    </tr>\n",
       "    <tr>\n",
       "      <th>2</th>\n",
       "      <td>Albania</td>\n",
       "      <td>2000</td>\n",
       "      <td>3.13M</td>\n",
       "    </tr>\n",
       "    <tr>\n",
       "      <th>3</th>\n",
       "      <td>Andorra</td>\n",
       "      <td>2000</td>\n",
       "      <td>65.4k</td>\n",
       "    </tr>\n",
       "    <tr>\n",
       "      <th>4</th>\n",
       "      <td>United Arab Emirates</td>\n",
       "      <td>2000</td>\n",
       "      <td>3.13M</td>\n",
       "    </tr>\n",
       "    <tr>\n",
       "      <th>...</th>\n",
       "      <td>...</td>\n",
       "      <td>...</td>\n",
       "      <td>...</td>\n",
       "    </tr>\n",
       "    <tr>\n",
       "      <th>3935</th>\n",
       "      <td>Samoa</td>\n",
       "      <td>2019</td>\n",
       "      <td>197k</td>\n",
       "    </tr>\n",
       "    <tr>\n",
       "      <th>3936</th>\n",
       "      <td>Yemen</td>\n",
       "      <td>2019</td>\n",
       "      <td>29.2M</td>\n",
       "    </tr>\n",
       "    <tr>\n",
       "      <th>3937</th>\n",
       "      <td>South Africa</td>\n",
       "      <td>2019</td>\n",
       "      <td>58.6M</td>\n",
       "    </tr>\n",
       "    <tr>\n",
       "      <th>3938</th>\n",
       "      <td>Zambia</td>\n",
       "      <td>2019</td>\n",
       "      <td>17.9M</td>\n",
       "    </tr>\n",
       "    <tr>\n",
       "      <th>3939</th>\n",
       "      <td>Zimbabwe</td>\n",
       "      <td>2019</td>\n",
       "      <td>14.6M</td>\n",
       "    </tr>\n",
       "  </tbody>\n",
       "</table>\n",
       "<p>3940 rows × 3 columns</p>\n",
       "</div>"
      ],
      "text/plain": [
       "                   country  year population\n",
       "0              Afghanistan  2000      20.8M\n",
       "1                   Angola  2000      16.4M\n",
       "2                  Albania  2000      3.13M\n",
       "3                  Andorra  2000      65.4k\n",
       "4     United Arab Emirates  2000      3.13M\n",
       "...                    ...   ...        ...\n",
       "3935                 Samoa  2019       197k\n",
       "3936                 Yemen  2019      29.2M\n",
       "3937          South Africa  2019      58.6M\n",
       "3938                Zambia  2019      17.9M\n",
       "3939              Zimbabwe  2019      14.6M\n",
       "\n",
       "[3940 rows x 3 columns]"
      ]
     },
     "execution_count": 11,
     "metadata": {},
     "output_type": "execute_result"
    }
   ],
   "source": [
    "#reshaping the population dataset\n",
    "df_population = population.melt(id_vars='country',\n",
    "                  var_name=\"year\",\n",
    "                  value_name=\"population\")\n",
    "df_population"
   ]
  },
  {
   "cell_type": "code",
   "execution_count": 12,
   "id": "3bef8640",
   "metadata": {},
   "outputs": [
    {
     "data": {
      "text/html": [
       "<div>\n",
       "<style scoped>\n",
       "    .dataframe tbody tr th:only-of-type {\n",
       "        vertical-align: middle;\n",
       "    }\n",
       "\n",
       "    .dataframe tbody tr th {\n",
       "        vertical-align: top;\n",
       "    }\n",
       "\n",
       "    .dataframe thead th {\n",
       "        text-align: right;\n",
       "    }\n",
       "</style>\n",
       "<table border=\"1\" class=\"dataframe\">\n",
       "  <thead>\n",
       "    <tr style=\"text-align: right;\">\n",
       "      <th></th>\n",
       "      <th>country</th>\n",
       "      <th>year</th>\n",
       "      <th>breast_cancer</th>\n",
       "    </tr>\n",
       "  </thead>\n",
       "  <tbody>\n",
       "    <tr>\n",
       "      <th>0</th>\n",
       "      <td>Afghanistan</td>\n",
       "      <td>2000</td>\n",
       "      <td>842</td>\n",
       "    </tr>\n",
       "    <tr>\n",
       "      <th>1</th>\n",
       "      <td>Angola</td>\n",
       "      <td>2000</td>\n",
       "      <td>627</td>\n",
       "    </tr>\n",
       "    <tr>\n",
       "      <th>2</th>\n",
       "      <td>Albania</td>\n",
       "      <td>2000</td>\n",
       "      <td>392</td>\n",
       "    </tr>\n",
       "    <tr>\n",
       "      <th>3</th>\n",
       "      <td>Andorra</td>\n",
       "      <td>2000</td>\n",
       "      <td>30.2</td>\n",
       "    </tr>\n",
       "    <tr>\n",
       "      <th>4</th>\n",
       "      <td>United Arab Emirates</td>\n",
       "      <td>2000</td>\n",
       "      <td>207</td>\n",
       "    </tr>\n",
       "    <tr>\n",
       "      <th>...</th>\n",
       "      <td>...</td>\n",
       "      <td>...</td>\n",
       "      <td>...</td>\n",
       "    </tr>\n",
       "    <tr>\n",
       "      <th>4115</th>\n",
       "      <td>Samoa</td>\n",
       "      <td>2019</td>\n",
       "      <td>34.9</td>\n",
       "    </tr>\n",
       "    <tr>\n",
       "      <th>4116</th>\n",
       "      <td>Yemen</td>\n",
       "      <td>2019</td>\n",
       "      <td>2000</td>\n",
       "    </tr>\n",
       "    <tr>\n",
       "      <th>4117</th>\n",
       "      <td>South Africa</td>\n",
       "      <td>2019</td>\n",
       "      <td>8540</td>\n",
       "    </tr>\n",
       "    <tr>\n",
       "      <th>4118</th>\n",
       "      <td>Zambia</td>\n",
       "      <td>2019</td>\n",
       "      <td>1170</td>\n",
       "    </tr>\n",
       "    <tr>\n",
       "      <th>4119</th>\n",
       "      <td>Zimbabwe</td>\n",
       "      <td>2019</td>\n",
       "      <td>1740</td>\n",
       "    </tr>\n",
       "  </tbody>\n",
       "</table>\n",
       "<p>4120 rows × 3 columns</p>\n",
       "</div>"
      ],
      "text/plain": [
       "                   country  year breast_cancer\n",
       "0              Afghanistan  2000           842\n",
       "1                   Angola  2000           627\n",
       "2                  Albania  2000           392\n",
       "3                  Andorra  2000          30.2\n",
       "4     United Arab Emirates  2000           207\n",
       "...                    ...   ...           ...\n",
       "4115                 Samoa  2019          34.9\n",
       "4116                 Yemen  2019          2000\n",
       "4117          South Africa  2019          8540\n",
       "4118                Zambia  2019          1170\n",
       "4119              Zimbabwe  2019          1740\n",
       "\n",
       "[4120 rows x 3 columns]"
      ]
     },
     "execution_count": 12,
     "metadata": {},
     "output_type": "execute_result"
    }
   ],
   "source": [
    "#reshaping the breast_cancer dataset\n",
    "df_breast_cancer =breast_cancer.melt(id_vars='country',\n",
    "                  var_name=\"year\",\n",
    "                  value_name=\"breast_cancer\")\n",
    "df_breast_cancer"
   ]
  },
  {
   "cell_type": "code",
   "execution_count": 13,
   "id": "fbf70ea2",
   "metadata": {},
   "outputs": [
    {
     "data": {
      "text/html": [
       "<div>\n",
       "<style scoped>\n",
       "    .dataframe tbody tr th:only-of-type {\n",
       "        vertical-align: middle;\n",
       "    }\n",
       "\n",
       "    .dataframe tbody tr th {\n",
       "        vertical-align: top;\n",
       "    }\n",
       "\n",
       "    .dataframe thead th {\n",
       "        text-align: right;\n",
       "    }\n",
       "</style>\n",
       "<table border=\"1\" class=\"dataframe\">\n",
       "  <thead>\n",
       "    <tr style=\"text-align: right;\">\n",
       "      <th></th>\n",
       "      <th>country</th>\n",
       "      <th>year</th>\n",
       "      <th>female_employment</th>\n",
       "    </tr>\n",
       "  </thead>\n",
       "  <tbody>\n",
       "    <tr>\n",
       "      <th>0</th>\n",
       "      <td>Afghanistan</td>\n",
       "      <td>2000</td>\n",
       "      <td>10.60</td>\n",
       "    </tr>\n",
       "    <tr>\n",
       "      <th>1</th>\n",
       "      <td>Angola</td>\n",
       "      <td>2000</td>\n",
       "      <td>55.20</td>\n",
       "    </tr>\n",
       "    <tr>\n",
       "      <th>2</th>\n",
       "      <td>Albania</td>\n",
       "      <td>2000</td>\n",
       "      <td>37.30</td>\n",
       "    </tr>\n",
       "    <tr>\n",
       "      <th>3</th>\n",
       "      <td>United Arab Emirates</td>\n",
       "      <td>2000</td>\n",
       "      <td>22.10</td>\n",
       "    </tr>\n",
       "    <tr>\n",
       "      <th>4</th>\n",
       "      <td>Argentina</td>\n",
       "      <td>2000</td>\n",
       "      <td>24.20</td>\n",
       "    </tr>\n",
       "    <tr>\n",
       "      <th>...</th>\n",
       "      <td>...</td>\n",
       "      <td>...</td>\n",
       "      <td>...</td>\n",
       "    </tr>\n",
       "    <tr>\n",
       "      <th>3775</th>\n",
       "      <td>Samoa</td>\n",
       "      <td>2019</td>\n",
       "      <td>19.40</td>\n",
       "    </tr>\n",
       "    <tr>\n",
       "      <th>3776</th>\n",
       "      <td>Yemen</td>\n",
       "      <td>2019</td>\n",
       "      <td>3.00</td>\n",
       "    </tr>\n",
       "    <tr>\n",
       "      <th>3777</th>\n",
       "      <td>South Africa</td>\n",
       "      <td>2019</td>\n",
       "      <td>8.74</td>\n",
       "    </tr>\n",
       "    <tr>\n",
       "      <th>3778</th>\n",
       "      <td>Zambia</td>\n",
       "      <td>2019</td>\n",
       "      <td>40.00</td>\n",
       "    </tr>\n",
       "    <tr>\n",
       "      <th>3779</th>\n",
       "      <td>Zimbabwe</td>\n",
       "      <td>2019</td>\n",
       "      <td>62.00</td>\n",
       "    </tr>\n",
       "  </tbody>\n",
       "</table>\n",
       "<p>3780 rows × 3 columns</p>\n",
       "</div>"
      ],
      "text/plain": [
       "                   country  year  female_employment\n",
       "0              Afghanistan  2000              10.60\n",
       "1                   Angola  2000              55.20\n",
       "2                  Albania  2000              37.30\n",
       "3     United Arab Emirates  2000              22.10\n",
       "4                Argentina  2000              24.20\n",
       "...                    ...   ...                ...\n",
       "3775                 Samoa  2019              19.40\n",
       "3776                 Yemen  2019               3.00\n",
       "3777          South Africa  2019               8.74\n",
       "3778                Zambia  2019              40.00\n",
       "3779              Zimbabwe  2019              62.00\n",
       "\n",
       "[3780 rows x 3 columns]"
      ]
     },
     "execution_count": 13,
     "metadata": {},
     "output_type": "execute_result"
    }
   ],
   "source": [
    "#reshaping the female_employment dataset\n",
    "df_female_employment =female_employment.melt(id_vars='country',\n",
    "                  var_name=\"year\",\n",
    "                  value_name=\"female_employment\")\n",
    "df_female_employment"
   ]
  },
  {
   "cell_type": "markdown",
   "id": "260c5e73",
   "metadata": {},
   "source": [
    "> The datasets have been reshaped for merging, using the melt function.\n",
    "\n",
    ">Now, I will merge the three datasets using the ***pd.merge()*** function, to form a single dataset for the analysis."
   ]
  },
  {
   "cell_type": "code",
   "execution_count": 14,
   "id": "9c01edef",
   "metadata": {},
   "outputs": [
    {
     "data": {
      "text/plain": [
       "(4260, 5)"
      ]
     },
     "execution_count": 14,
     "metadata": {},
     "output_type": "execute_result"
    }
   ],
   "source": [
    "#merging the first two datasets\n",
    "df = pd.merge(df_population, df_breast_cancer, on = ['country', 'year'], how = 'outer')\n",
    "\n",
    "#finally merging the resulting datasets\n",
    "Gapminder_data = pd.merge(df, df_female_employment, on = ['country', 'year'], how ='outer')\n",
    "\n",
    "#checking the shape of the merged data\n",
    "Gapminder_data.shape\n"
   ]
  },
  {
   "cell_type": "code",
   "execution_count": 17,
   "id": "48bf203d",
   "metadata": {},
   "outputs": [
    {
     "data": {
      "text/html": [
       "<div>\n",
       "<style scoped>\n",
       "    .dataframe tbody tr th:only-of-type {\n",
       "        vertical-align: middle;\n",
       "    }\n",
       "\n",
       "    .dataframe tbody tr th {\n",
       "        vertical-align: top;\n",
       "    }\n",
       "\n",
       "    .dataframe thead th {\n",
       "        text-align: right;\n",
       "    }\n",
       "</style>\n",
       "<table border=\"1\" class=\"dataframe\">\n",
       "  <thead>\n",
       "    <tr style=\"text-align: right;\">\n",
       "      <th></th>\n",
       "      <th>country</th>\n",
       "      <th>year</th>\n",
       "      <th>population</th>\n",
       "      <th>breast_cancer</th>\n",
       "      <th>female_employment</th>\n",
       "    </tr>\n",
       "  </thead>\n",
       "  <tbody>\n",
       "    <tr>\n",
       "      <th>4255</th>\n",
       "      <td>New Caledonia</td>\n",
       "      <td>2018</td>\n",
       "      <td>NaN</td>\n",
       "      <td>NaN</td>\n",
       "      <td>24.7</td>\n",
       "    </tr>\n",
       "    <tr>\n",
       "      <th>4256</th>\n",
       "      <td>Channel Islands</td>\n",
       "      <td>2019</td>\n",
       "      <td>NaN</td>\n",
       "      <td>NaN</td>\n",
       "      <td>39.0</td>\n",
       "    </tr>\n",
       "    <tr>\n",
       "      <th>4257</th>\n",
       "      <td>Western Sahara</td>\n",
       "      <td>2019</td>\n",
       "      <td>NaN</td>\n",
       "      <td>NaN</td>\n",
       "      <td>13.2</td>\n",
       "    </tr>\n",
       "    <tr>\n",
       "      <th>4258</th>\n",
       "      <td>Macao, China</td>\n",
       "      <td>2019</td>\n",
       "      <td>NaN</td>\n",
       "      <td>NaN</td>\n",
       "      <td>43.4</td>\n",
       "    </tr>\n",
       "    <tr>\n",
       "      <th>4259</th>\n",
       "      <td>New Caledonia</td>\n",
       "      <td>2019</td>\n",
       "      <td>NaN</td>\n",
       "      <td>NaN</td>\n",
       "      <td>25.3</td>\n",
       "    </tr>\n",
       "  </tbody>\n",
       "</table>\n",
       "</div>"
      ],
      "text/plain": [
       "              country  year population breast_cancer  female_employment\n",
       "4255    New Caledonia  2018        NaN           NaN               24.7\n",
       "4256  Channel Islands  2019        NaN           NaN               39.0\n",
       "4257   Western Sahara  2019        NaN           NaN               13.2\n",
       "4258     Macao, China  2019        NaN           NaN               43.4\n",
       "4259    New Caledonia  2019        NaN           NaN               25.3"
      ]
     },
     "execution_count": 17,
     "metadata": {},
     "output_type": "execute_result"
    }
   ],
   "source": [
    "Gapminder_data.tail(5)"
   ]
  },
  {
   "cell_type": "markdown",
   "id": "01edf1d6",
   "metadata": {},
   "source": [
    ">The *outer* join is used to make sure that no data is thrown away due to mismatched labels."
   ]
  },
  {
   "cell_type": "code",
   "execution_count": 15,
   "id": "a8076a57",
   "metadata": {},
   "outputs": [
    {
     "name": "stdout",
     "output_type": "stream",
     "text": [
      "<class 'pandas.core.frame.DataFrame'>\n",
      "Int64Index: 4260 entries, 0 to 4259\n",
      "Data columns (total 5 columns):\n",
      " #   Column             Non-Null Count  Dtype  \n",
      "---  ------             --------------  -----  \n",
      " 0   country            4260 non-null   object \n",
      " 1   year               4260 non-null   object \n",
      " 2   population         3940 non-null   object \n",
      " 3   breast_cancer      4082 non-null   object \n",
      " 4   female_employment  3780 non-null   float64\n",
      "dtypes: float64(1), object(4)\n",
      "memory usage: 199.7+ KB\n"
     ]
    }
   ],
   "source": [
    "#looking at the overview of the data\n",
    "Gapminder_data.info()"
   ]
  },
  {
   "cell_type": "markdown",
   "id": "565bd64a",
   "metadata": {},
   "source": [
    ">From the above information, the resulting data (Gapminder_dataset) has 4260 rows or entries and 5 columns or features. There are missing values in the data due to mismatched labels resulting from unrecorded data entries before the analysis. "
   ]
  },
  {
   "cell_type": "markdown",
   "id": "69c168da",
   "metadata": {},
   "source": [
    "# Data Cleaning"
   ]
  },
  {
   "cell_type": "markdown",
   "id": "7c433e2e",
   "metadata": {},
   "source": [
    "> After merging the ***df_population***, ***df_breast_cancer*** and the ***df_female_employment*** datasets, the next step is cleaning the data.\n",
    "\n"
   ]
  },
  {
   "cell_type": "code",
   "execution_count": 16,
   "id": "27aa113c",
   "metadata": {},
   "outputs": [],
   "source": [
    "#Dropping the missing values\n",
    "Gapminder_data.dropna(inplace = True)"
   ]
  },
  {
   "cell_type": "markdown",
   "id": "890743af",
   "metadata": {},
   "source": [
    "> Now the missing data have been dropped "
   ]
  },
  {
   "cell_type": "code",
   "execution_count": 17,
   "id": "8ab3734d",
   "metadata": {},
   "outputs": [
    {
     "data": {
      "text/plain": [
       "country               object\n",
       "year                  object\n",
       "population            object\n",
       "breast_cancer         object\n",
       "female_employment    float64\n",
       "dtype: object"
      ]
     },
     "execution_count": 17,
     "metadata": {},
     "output_type": "execute_result"
    }
   ],
   "source": [
    "#checking the datatypes\n",
    "Gapminder_data.dtypes"
   ]
  },
  {
   "cell_type": "code",
   "execution_count": 18,
   "id": "49ca28d2",
   "metadata": {},
   "outputs": [
    {
     "data": {
      "text/html": [
       "<div>\n",
       "<style scoped>\n",
       "    .dataframe tbody tr th:only-of-type {\n",
       "        vertical-align: middle;\n",
       "    }\n",
       "\n",
       "    .dataframe tbody tr th {\n",
       "        vertical-align: top;\n",
       "    }\n",
       "\n",
       "    .dataframe thead th {\n",
       "        text-align: right;\n",
       "    }\n",
       "</style>\n",
       "<table border=\"1\" class=\"dataframe\">\n",
       "  <thead>\n",
       "    <tr style=\"text-align: right;\">\n",
       "      <th></th>\n",
       "      <th>country</th>\n",
       "      <th>year</th>\n",
       "      <th>population</th>\n",
       "      <th>breast_cancer</th>\n",
       "      <th>female_employment</th>\n",
       "    </tr>\n",
       "  </thead>\n",
       "  <tbody>\n",
       "    <tr>\n",
       "      <th>0</th>\n",
       "      <td>Afghanistan</td>\n",
       "      <td>2000</td>\n",
       "      <td>20.8M</td>\n",
       "      <td>842</td>\n",
       "      <td>10.6</td>\n",
       "    </tr>\n",
       "    <tr>\n",
       "      <th>1</th>\n",
       "      <td>Angola</td>\n",
       "      <td>2000</td>\n",
       "      <td>16.4M</td>\n",
       "      <td>627</td>\n",
       "      <td>55.2</td>\n",
       "    </tr>\n",
       "    <tr>\n",
       "      <th>2</th>\n",
       "      <td>Albania</td>\n",
       "      <td>2000</td>\n",
       "      <td>3.13M</td>\n",
       "      <td>392</td>\n",
       "      <td>37.3</td>\n",
       "    </tr>\n",
       "    <tr>\n",
       "      <th>4</th>\n",
       "      <td>United Arab Emirates</td>\n",
       "      <td>2000</td>\n",
       "      <td>3.13M</td>\n",
       "      <td>207</td>\n",
       "      <td>22.1</td>\n",
       "    </tr>\n",
       "    <tr>\n",
       "      <th>5</th>\n",
       "      <td>Argentina</td>\n",
       "      <td>2000</td>\n",
       "      <td>36.9M</td>\n",
       "      <td>12.6k</td>\n",
       "      <td>24.2</td>\n",
       "    </tr>\n",
       "  </tbody>\n",
       "</table>\n",
       "</div>"
      ],
      "text/plain": [
       "                country  year population breast_cancer  female_employment\n",
       "0           Afghanistan  2000      20.8M           842               10.6\n",
       "1                Angola  2000      16.4M           627               55.2\n",
       "2               Albania  2000      3.13M           392               37.3\n",
       "4  United Arab Emirates  2000      3.13M           207               22.1\n",
       "5             Argentina  2000      36.9M         12.6k               24.2"
      ]
     },
     "execution_count": 18,
     "metadata": {},
     "output_type": "execute_result"
    }
   ],
   "source": [
    "#checking the first few lines of the data\n",
    "Gapminder_data.head()"
   ]
  },
  {
   "cell_type": "markdown",
   "id": "834c84ff",
   "metadata": {},
   "source": [
    "> The population and breast_cancer column are objectdatatypes containing 'M', 'K', and 'B' letters, which needs to be cleaned."
   ]
  },
  {
   "cell_type": "code",
   "execution_count": 19,
   "id": "37c37f74",
   "metadata": {},
   "outputs": [],
   "source": [
    "#writing a function to convert the population and breast_cancer columns to floats\n",
    "def million(x):\n",
    "    if 'M' in x:\n",
    "        return f\"{(float(x.strip('M'))*1000000)}\"\n",
    "    elif 'k' in x:\n",
    "        return f\"{(float(x.strip('k'))*1000)}\"\n",
    "    elif 'B' in x:\n",
    "        return f\"{(float(x.strip('B'))* 1000000000)}\"\n",
    "    else:\n",
    "        return x"
   ]
  },
  {
   "cell_type": "code",
   "execution_count": 20,
   "id": "4351bf04",
   "metadata": {},
   "outputs": [],
   "source": [
    "#applying the function to the population column\n",
    "Gapminder_data['population'] = Gapminder_data['population'].apply(million)"
   ]
  },
  {
   "cell_type": "code",
   "execution_count": 21,
   "id": "3b3fd791",
   "metadata": {},
   "outputs": [],
   "source": [
    "#applying the function to the breast_cancer column\n",
    "Gapminder_data['breast_cancer'] = Gapminder_data['breast_cancer'].apply(million)"
   ]
  },
  {
   "cell_type": "code",
   "execution_count": 22,
   "id": "5a531139",
   "metadata": {},
   "outputs": [],
   "source": [
    "#converting the population column to int data type\n",
    "Gapminder_data['population'] = Gapminder_data['population'].astype('float')\n",
    "Gapminder_data['population'] = Gapminder_data['population'].astype('int')"
   ]
  },
  {
   "cell_type": "code",
   "execution_count": 23,
   "id": "c93d1e87",
   "metadata": {},
   "outputs": [],
   "source": [
    "#converting the breast_cancer column to int data type\n",
    "Gapminder_data['breast_cancer'] = Gapminder_data['breast_cancer'].astype('float')\n",
    "Gapminder_data['breast_cancer'] = Gapminder_data['breast_cancer'].astype('int')"
   ]
  },
  {
   "cell_type": "code",
   "execution_count": 59,
   "id": "5f48adc4",
   "metadata": {},
   "outputs": [
    {
     "data": {
      "text/html": [
       "<div>\n",
       "<style scoped>\n",
       "    .dataframe tbody tr th:only-of-type {\n",
       "        vertical-align: middle;\n",
       "    }\n",
       "\n",
       "    .dataframe tbody tr th {\n",
       "        vertical-align: top;\n",
       "    }\n",
       "\n",
       "    .dataframe thead th {\n",
       "        text-align: right;\n",
       "    }\n",
       "</style>\n",
       "<table border=\"1\" class=\"dataframe\">\n",
       "  <thead>\n",
       "    <tr style=\"text-align: right;\">\n",
       "      <th></th>\n",
       "      <th>country</th>\n",
       "      <th>year</th>\n",
       "      <th>population</th>\n",
       "      <th>breast_cancer</th>\n",
       "      <th>female_employment</th>\n",
       "    </tr>\n",
       "  </thead>\n",
       "  <tbody>\n",
       "    <tr>\n",
       "      <th>0</th>\n",
       "      <td>Afghanistan</td>\n",
       "      <td>2000</td>\n",
       "      <td>20800000</td>\n",
       "      <td>842</td>\n",
       "      <td>10.60</td>\n",
       "    </tr>\n",
       "    <tr>\n",
       "      <th>1</th>\n",
       "      <td>Angola</td>\n",
       "      <td>2000</td>\n",
       "      <td>16399999</td>\n",
       "      <td>627</td>\n",
       "      <td>55.20</td>\n",
       "    </tr>\n",
       "    <tr>\n",
       "      <th>2</th>\n",
       "      <td>Albania</td>\n",
       "      <td>2000</td>\n",
       "      <td>3130000</td>\n",
       "      <td>392</td>\n",
       "      <td>37.30</td>\n",
       "    </tr>\n",
       "    <tr>\n",
       "      <th>4</th>\n",
       "      <td>United Arab Emirates</td>\n",
       "      <td>2000</td>\n",
       "      <td>3130000</td>\n",
       "      <td>207</td>\n",
       "      <td>22.10</td>\n",
       "    </tr>\n",
       "    <tr>\n",
       "      <th>5</th>\n",
       "      <td>Argentina</td>\n",
       "      <td>2000</td>\n",
       "      <td>36900000</td>\n",
       "      <td>12600</td>\n",
       "      <td>24.20</td>\n",
       "    </tr>\n",
       "    <tr>\n",
       "      <th>...</th>\n",
       "      <td>...</td>\n",
       "      <td>...</td>\n",
       "      <td>...</td>\n",
       "      <td>...</td>\n",
       "      <td>...</td>\n",
       "    </tr>\n",
       "    <tr>\n",
       "      <th>3935</th>\n",
       "      <td>Samoa</td>\n",
       "      <td>2019</td>\n",
       "      <td>197000</td>\n",
       "      <td>34</td>\n",
       "      <td>19.40</td>\n",
       "    </tr>\n",
       "    <tr>\n",
       "      <th>3936</th>\n",
       "      <td>Yemen</td>\n",
       "      <td>2019</td>\n",
       "      <td>29200000</td>\n",
       "      <td>2000</td>\n",
       "      <td>3.00</td>\n",
       "    </tr>\n",
       "    <tr>\n",
       "      <th>3937</th>\n",
       "      <td>South Africa</td>\n",
       "      <td>2019</td>\n",
       "      <td>58600000</td>\n",
       "      <td>8540</td>\n",
       "      <td>8.74</td>\n",
       "    </tr>\n",
       "    <tr>\n",
       "      <th>3938</th>\n",
       "      <td>Zambia</td>\n",
       "      <td>2019</td>\n",
       "      <td>17900000</td>\n",
       "      <td>1170</td>\n",
       "      <td>40.00</td>\n",
       "    </tr>\n",
       "    <tr>\n",
       "      <th>3939</th>\n",
       "      <td>Zimbabwe</td>\n",
       "      <td>2019</td>\n",
       "      <td>14600000</td>\n",
       "      <td>1740</td>\n",
       "      <td>62.00</td>\n",
       "    </tr>\n",
       "  </tbody>\n",
       "</table>\n",
       "<p>3600 rows × 5 columns</p>\n",
       "</div>"
      ],
      "text/plain": [
       "                   country  year  population  breast_cancer  female_employment\n",
       "0              Afghanistan  2000    20800000            842              10.60\n",
       "1                   Angola  2000    16399999            627              55.20\n",
       "2                  Albania  2000     3130000            392              37.30\n",
       "4     United Arab Emirates  2000     3130000            207              22.10\n",
       "5                Argentina  2000    36900000          12600              24.20\n",
       "...                    ...   ...         ...            ...                ...\n",
       "3935                 Samoa  2019      197000             34              19.40\n",
       "3936                 Yemen  2019    29200000           2000               3.00\n",
       "3937          South Africa  2019    58600000           8540               8.74\n",
       "3938                Zambia  2019    17900000           1170              40.00\n",
       "3939              Zimbabwe  2019    14600000           1740              62.00\n",
       "\n",
       "[3600 rows x 5 columns]"
      ]
     },
     "execution_count": 59,
     "metadata": {},
     "output_type": "execute_result"
    }
   ],
   "source": [
    "#printing the data\n",
    "Gapminder_data"
   ]
  },
  {
   "cell_type": "code",
   "execution_count": 25,
   "id": "8862cfe7",
   "metadata": {},
   "outputs": [
    {
     "data": {
      "text/plain": [
       "country               object\n",
       "year                  object\n",
       "population             int32\n",
       "breast_cancer          int32\n",
       "female_employment    float64\n",
       "dtype: object"
      ]
     },
     "execution_count": 25,
     "metadata": {},
     "output_type": "execute_result"
    }
   ],
   "source": [
    "#rechecking the data types of our dataset columns\n",
    "Gapminder_data.dtypes"
   ]
  },
  {
   "cell_type": "code",
   "execution_count": 26,
   "id": "d7c2b11d",
   "metadata": {},
   "outputs": [
    {
     "data": {
      "text/plain": [
       "0"
      ]
     },
     "execution_count": 26,
     "metadata": {},
     "output_type": "execute_result"
    }
   ],
   "source": [
    "#checking for duplicated values\n",
    "Gapminder_data.duplicated().sum()"
   ]
  },
  {
   "cell_type": "markdown",
   "id": "13346e91",
   "metadata": {},
   "source": [
    "> there are no duplicated values in the data, which is good for our analysis."
   ]
  },
  {
   "cell_type": "markdown",
   "id": "6a92ab8e",
   "metadata": {},
   "source": [
    "# Exploratory Data Analysis\n",
    "\n",
    "> Here we will discover patterns, and trends using the visualization tools as our data is now clean."
   ]
  },
  {
   "cell_type": "code",
   "execution_count": 27,
   "id": "0d40cda4",
   "metadata": {},
   "outputs": [
    {
     "data": {
      "text/html": [
       "<div>\n",
       "<style scoped>\n",
       "    .dataframe tbody tr th:only-of-type {\n",
       "        vertical-align: middle;\n",
       "    }\n",
       "\n",
       "    .dataframe tbody tr th {\n",
       "        vertical-align: top;\n",
       "    }\n",
       "\n",
       "    .dataframe thead th {\n",
       "        text-align: right;\n",
       "    }\n",
       "</style>\n",
       "<table border=\"1\" class=\"dataframe\">\n",
       "  <thead>\n",
       "    <tr style=\"text-align: right;\">\n",
       "      <th></th>\n",
       "      <th>population</th>\n",
       "      <th>breast_cancer</th>\n",
       "      <th>female_employment</th>\n",
       "    </tr>\n",
       "  </thead>\n",
       "  <tbody>\n",
       "    <tr>\n",
       "      <th>count</th>\n",
       "      <td>3.600000e+03</td>\n",
       "      <td>3600.000000</td>\n",
       "      <td>3600.000000</td>\n",
       "    </tr>\n",
       "    <tr>\n",
       "      <th>mean</th>\n",
       "      <td>3.835931e+07</td>\n",
       "      <td>8585.219444</td>\n",
       "      <td>32.732292</td>\n",
       "    </tr>\n",
       "    <tr>\n",
       "      <th>std</th>\n",
       "      <td>1.401085e+08</td>\n",
       "      <td>27933.759894</td>\n",
       "      <td>17.449997</td>\n",
       "    </tr>\n",
       "    <tr>\n",
       "      <th>min</th>\n",
       "      <td>9.800000e+04</td>\n",
       "      <td>8.000000</td>\n",
       "      <td>1.820000</td>\n",
       "    </tr>\n",
       "    <tr>\n",
       "      <th>25%</th>\n",
       "      <td>2.910000e+06</td>\n",
       "      <td>366.750000</td>\n",
       "      <td>20.200000</td>\n",
       "    </tr>\n",
       "    <tr>\n",
       "      <th>50%</th>\n",
       "      <td>8.965000e+06</td>\n",
       "      <td>1250.000000</td>\n",
       "      <td>29.100000</td>\n",
       "    </tr>\n",
       "    <tr>\n",
       "      <th>75%</th>\n",
       "      <td>2.612500e+07</td>\n",
       "      <td>5240.000000</td>\n",
       "      <td>44.625000</td>\n",
       "    </tr>\n",
       "    <tr>\n",
       "      <th>max</th>\n",
       "      <td>1.430000e+09</td>\n",
       "      <td>368000.000000</td>\n",
       "      <td>78.300000</td>\n",
       "    </tr>\n",
       "  </tbody>\n",
       "</table>\n",
       "</div>"
      ],
      "text/plain": [
       "         population  breast_cancer  female_employment\n",
       "count  3.600000e+03    3600.000000        3600.000000\n",
       "mean   3.835931e+07    8585.219444          32.732292\n",
       "std    1.401085e+08   27933.759894          17.449997\n",
       "min    9.800000e+04       8.000000           1.820000\n",
       "25%    2.910000e+06     366.750000          20.200000\n",
       "50%    8.965000e+06    1250.000000          29.100000\n",
       "75%    2.612500e+07    5240.000000          44.625000\n",
       "max    1.430000e+09  368000.000000          78.300000"
      ]
     },
     "execution_count": 27,
     "metadata": {},
     "output_type": "execute_result"
    }
   ],
   "source": [
    "#checking the statistical overview\n",
    "Gapminder_data.describe()"
   ]
  },
  {
   "cell_type": "code",
   "execution_count": 28,
   "id": "826b6c2f",
   "metadata": {},
   "outputs": [
    {
     "data": {
      "image/png": "[encoded data removed]",
      "text/plain": [
       "<Figure size 1080x720 with 4 Axes>"
      ]
     },
     "metadata": {
      "needs_background": "light"
     },
     "output_type": "display_data"
    }
   ],
   "source": [
    "#plotting the histogram of the data\n",
    "Gapminder_data.hist(figsize= (15, 10));"
   ]
  },
  {
   "cell_type": "markdown",
   "id": "f7e49448",
   "metadata": {},
   "source": [
    ">From the above descriptions, a few conclusions can be made:\n",
    "\n",
    ">- Most countries fall within the population range of approximately 20,000,000 people.\n",
    ">- Most countries had less than 25000 breast cancer cases.\n",
    ">- There were 18% - 32% of female polution of age 15-24 that were employed in most countries."
   ]
  },
  {
   "cell_type": "code",
   "execution_count": 29,
   "id": "e66c8d91",
   "metadata": {},
   "outputs": [
    {
     "data": {
      "text/plain": [
       "180"
      ]
     },
     "execution_count": 29,
     "metadata": {},
     "output_type": "execute_result"
    }
   ],
   "source": [
    "#checking the number of countries we are working with\n",
    "Gapminder_data['country'].nunique()"
   ]
  },
  {
   "cell_type": "markdown",
   "id": "7b36ac7e",
   "metadata": {},
   "source": [
    "> With the shape of 180 rows, it means we will be exploring data across 180 different countries."
   ]
  },
  {
   "cell_type": "markdown",
   "id": "dc90b2fe",
   "metadata": {},
   "source": [
    "## Question 1: What countries has the highest and lowest population "
   ]
  },
  {
   "cell_type": "code",
   "execution_count": 30,
   "id": "c144c011",
   "metadata": {},
   "outputs": [],
   "source": [
    "#converting to the mean population, breast cancer rates, and female_employment rates for the twenty years period using groupby.\n",
    "final_data = Gapminder_data.groupby('country')[['population', 'female_employment', 'breast_cancer']].mean()\n",
    "#renaming our Gapminder_data columns\n",
    "\n",
    "final_data = final_data.rename(columns = {'population': 'mean_population', 'female_employment': 'mean_female_employment', 'breast_cancer': 'mean_breast_cancer'})"
   ]
  },
  {
   "cell_type": "markdown",
   "id": "314662b4",
   "metadata": {},
   "source": [
    ">Using the groupby() function, the mean of the indicators are obtained over a period of twenty years, for a summarised analysis."
   ]
  },
  {
   "cell_type": "code",
   "execution_count": 31,
   "id": "4fe3e328",
   "metadata": {},
   "outputs": [],
   "source": [
    "#resetting the index\n",
    "final_data = final_data.reset_index()"
   ]
  },
  {
   "cell_type": "markdown",
   "id": "ffb58753",
   "metadata": {},
   "source": [
    "> Resetting the data index makes the index (country) a column for easy analysis."
   ]
  },
  {
   "cell_type": "code",
   "execution_count": 32,
   "id": "f9bb990d",
   "metadata": {},
   "outputs": [
    {
     "data": {
      "image/png": "[encoded data removed]",
      "text/plain": [
       "<Figure size 1440x720 with 1 Axes>"
      ]
     },
     "metadata": {
      "needs_background": "light"
     },
     "output_type": "display_data"
    }
   ],
   "source": [
    "#we start by dividing the data into two according to the mean.\n",
    "larger_country = final_data[final_data['mean_population'] >= final_data['mean_population'].mean()] #those greater than mean\n",
    "smaller_country = final_data[final_data['mean_population'] <= final_data['mean_population'].mean()] #those less than mean\n",
    "\n",
    "#ploting for the larger countries\n",
    "plt.figure(figsize=[20,10])\n",
    "plt.bar(larger_country['country'], larger_country['mean_population'], label = 'population')\n",
    "plt.xticks(rotation = 90)\n",
    "plt.ylabel('population')\n",
    "plt.xlabel('countries')\n",
    "plt.title('The mean population from 2000 - 2019')\n",
    "plt.legend();"
   ]
  },
  {
   "cell_type": "markdown",
   "id": "8c0af4e2",
   "metadata": {},
   "source": [
    "> China and India shows a considerable amount of increased population with china being the highest populous country"
   ]
  },
  {
   "cell_type": "code",
   "execution_count": 33,
   "id": "73f853a1",
   "metadata": {
    "scrolled": false
   },
   "outputs": [
    {
     "data": {
      "image/png": "[encoded data removed]",
      "text/plain": [
       "<Figure size 2520x1080 with 1 Axes>"
      ]
     },
     "metadata": {
      "needs_background": "light"
     },
     "output_type": "display_data"
    }
   ],
   "source": [
    "#creating a bar chart for the smaller countries\n",
    "plt.figure(figsize=[35,15])\n",
    "plt.bar(smaller_country['country'], smaller_country['mean_population'], label = 'population')\n",
    "plt.xticks(rotation = 90)\n",
    "plt.ylabel('population')\n",
    "plt.xlabel('countries')\n",
    "plt.title('The mean population from 2000 - 2019')\n",
    "plt.legend();"
   ]
  },
  {
   "cell_type": "markdown",
   "id": "0bca56ad",
   "metadata": {},
   "source": [
    "> The smaller_country data states the countries with population lower than the mean. In  the above plot, countries such as Samoa, Sao Tome Principe, St Lucia, St. Vincent and the Grenadines, Vanuatu and Tonga shows a decreased mean population with Tonga having the lowest population."
   ]
  },
  {
   "cell_type": "code",
   "execution_count": 36,
   "id": "27e331ec",
   "metadata": {},
   "outputs": [
    {
     "data": {
      "text/html": [
       "<div>\n",
       "<style scoped>\n",
       "    .dataframe tbody tr th:only-of-type {\n",
       "        vertical-align: middle;\n",
       "    }\n",
       "\n",
       "    .dataframe tbody tr th {\n",
       "        vertical-align: top;\n",
       "    }\n",
       "\n",
       "    .dataframe thead th {\n",
       "        text-align: right;\n",
       "    }\n",
       "</style>\n",
       "<table border=\"1\" class=\"dataframe\">\n",
       "  <thead>\n",
       "    <tr style=\"text-align: right;\">\n",
       "      <th></th>\n",
       "      <th>country</th>\n",
       "      <th>mean_population</th>\n",
       "      <th>mean_female_employment</th>\n",
       "      <th>mean_breast_cancer</th>\n",
       "    </tr>\n",
       "  </thead>\n",
       "  <tbody>\n",
       "    <tr>\n",
       "      <th>33</th>\n",
       "      <td>China</td>\n",
       "      <td>1.364500e+09</td>\n",
       "      <td>49.08</td>\n",
       "      <td>239100.0</td>\n",
       "    </tr>\n",
       "  </tbody>\n",
       "</table>\n",
       "</div>"
      ],
      "text/plain": [
       "   country  mean_population  mean_female_employment  mean_breast_cancer\n",
       "33   China     1.364500e+09                   49.08            239100.0"
      ]
     },
     "execution_count": 36,
     "metadata": {},
     "output_type": "execute_result"
    }
   ],
   "source": [
    "#confirming the country with the smallest population\n",
    "larger_country[larger_country['mean_population'] == larger_country['mean_population'].max()]"
   ]
  },
  {
   "cell_type": "markdown",
   "id": "dc576e09",
   "metadata": {},
   "source": [
    "> China records the highest mean population of approximately 1,364,500,000 people and Tonga the lowest with a mean population of 101,655 people"
   ]
  },
  {
   "cell_type": "markdown",
   "id": "a47cb09a",
   "metadata": {},
   "source": [
    "# Question 2: What countries had the highest and lowest breast cancer rates?"
   ]
  },
  {
   "cell_type": "code",
   "execution_count": 38,
   "id": "c301d723",
   "metadata": {},
   "outputs": [
    {
     "data": {
      "text/plain": [
       "(12.45, 239100.0)"
      ]
     },
     "execution_count": 38,
     "metadata": {},
     "output_type": "execute_result"
    }
   ],
   "source": [
    "#checking for the highest and lowest breast cancer rate\n",
    "final_data['mean_breast_cancer'].min(), final_data['mean_breast_cancer'].max()"
   ]
  },
  {
   "cell_type": "code",
   "execution_count": 39,
   "id": "36af36e1",
   "metadata": {},
   "outputs": [
    {
     "data": {
      "text/html": [
       "<div>\n",
       "<style scoped>\n",
       "    .dataframe tbody tr th:only-of-type {\n",
       "        vertical-align: middle;\n",
       "    }\n",
       "\n",
       "    .dataframe tbody tr th {\n",
       "        vertical-align: top;\n",
       "    }\n",
       "\n",
       "    .dataframe thead th {\n",
       "        text-align: right;\n",
       "    }\n",
       "</style>\n",
       "<table border=\"1\" class=\"dataframe\">\n",
       "  <thead>\n",
       "    <tr style=\"text-align: right;\">\n",
       "      <th></th>\n",
       "      <th>country</th>\n",
       "      <th>mean_population</th>\n",
       "      <th>mean_female_employment</th>\n",
       "      <th>mean_breast_cancer</th>\n",
       "    </tr>\n",
       "  </thead>\n",
       "  <tbody>\n",
       "    <tr>\n",
       "      <th>134</th>\n",
       "      <td>Sao Tome and Principe</td>\n",
       "      <td>177300.0</td>\n",
       "      <td>14.94</td>\n",
       "      <td>12.45</td>\n",
       "    </tr>\n",
       "  </tbody>\n",
       "</table>\n",
       "</div>"
      ],
      "text/plain": [
       "                   country  mean_population  mean_female_employment  \\\n",
       "134  Sao Tome and Principe         177300.0                   14.94   \n",
       "\n",
       "     mean_breast_cancer  \n",
       "134               12.45  "
      ]
     },
     "execution_count": 39,
     "metadata": {},
     "output_type": "execute_result"
    }
   ],
   "source": [
    "#filtering the lowest breast cancer rate\n",
    "final_data[final_data['mean_breast_cancer'] == 12.45]"
   ]
  },
  {
   "cell_type": "code",
   "execution_count": 40,
   "id": "39236cde",
   "metadata": {},
   "outputs": [
    {
     "data": {
      "text/html": [
       "<div>\n",
       "<style scoped>\n",
       "    .dataframe tbody tr th:only-of-type {\n",
       "        vertical-align: middle;\n",
       "    }\n",
       "\n",
       "    .dataframe tbody tr th {\n",
       "        vertical-align: top;\n",
       "    }\n",
       "\n",
       "    .dataframe thead th {\n",
       "        text-align: right;\n",
       "    }\n",
       "</style>\n",
       "<table border=\"1\" class=\"dataframe\">\n",
       "  <thead>\n",
       "    <tr style=\"text-align: right;\">\n",
       "      <th></th>\n",
       "      <th>country</th>\n",
       "      <th>mean_population</th>\n",
       "      <th>mean_female_employment</th>\n",
       "      <th>mean_breast_cancer</th>\n",
       "    </tr>\n",
       "  </thead>\n",
       "  <tbody>\n",
       "    <tr>\n",
       "      <th>33</th>\n",
       "      <td>China</td>\n",
       "      <td>1.364500e+09</td>\n",
       "      <td>49.08</td>\n",
       "      <td>239100.0</td>\n",
       "    </tr>\n",
       "  </tbody>\n",
       "</table>\n",
       "</div>"
      ],
      "text/plain": [
       "   country  mean_population  mean_female_employment  mean_breast_cancer\n",
       "33   China     1.364500e+09                   49.08            239100.0"
      ]
     },
     "execution_count": 40,
     "metadata": {},
     "output_type": "execute_result"
    }
   ],
   "source": [
    "final_data[final_data['mean_breast_cancer'] ==239100 ]"
   ]
  },
  {
   "cell_type": "markdown",
   "id": "3315997a",
   "metadata": {},
   "source": [
    "> *China* also records as the country with the highest mean breast cancer cases of 239100, and '*Sao Tome and Principe*' as the country with the lowest with 12.45 cases. This could be as a result of large population of China and a very low population of *Sao Tome and Principe*"
   ]
  },
  {
   "cell_type": "markdown",
   "id": "37e8687c",
   "metadata": {},
   "source": [
    "# What Countries had the highest and lowest female employment rates?"
   ]
  },
  {
   "cell_type": "code",
   "execution_count": 41,
   "id": "042bebb2",
   "metadata": {},
   "outputs": [
    {
     "data": {
      "image/png": "[encoded data removed]",
      "text/plain": [
       "<Figure size 1800x1080 with 1 Axes>"
      ]
     },
     "metadata": {
      "needs_background": "light"
     },
     "output_type": "display_data"
    }
   ],
   "source": [
    "#creating chart for the female employment rates in countries with higher rates\n",
    "plt.figure(figsize= (25, 15))\n",
    "larger_female_employment = final_data[final_data['mean_female_employment'] >= final_data['mean_female_employment'].mean()]\n",
    "plt.bar(larger_female_employment['country'], larger_female_employment['mean_female_employment'])\n",
    "plt.xticks(rotation = 90)\n",
    "plt.xlabel('countries')\n",
    "plt.ylabel('mean_female_employment')\n",
    "plt.title('Mean_female_employment cases from 2000 - 2019');\n"
   ]
  },
  {
   "cell_type": "markdown",
   "id": "2d0285d1",
   "metadata": {},
   "source": [
    "> With the female employment data greater than the mean, countries such as Cambodia, Iceland, Nepal, Tanzania, and North Korea has shown a considerable increase in the number of female employment rates, while Nepal showed the highest female employment rate of 74.68%."
   ]
  },
  {
   "cell_type": "code",
   "execution_count": 42,
   "id": "4c80d672",
   "metadata": {},
   "outputs": [
    {
     "data": {
      "text/html": [
       "<div>\n",
       "<style scoped>\n",
       "    .dataframe tbody tr th:only-of-type {\n",
       "        vertical-align: middle;\n",
       "    }\n",
       "\n",
       "    .dataframe tbody tr th {\n",
       "        vertical-align: top;\n",
       "    }\n",
       "\n",
       "    .dataframe thead th {\n",
       "        text-align: right;\n",
       "    }\n",
       "</style>\n",
       "<table border=\"1\" class=\"dataframe\">\n",
       "  <thead>\n",
       "    <tr style=\"text-align: right;\">\n",
       "      <th></th>\n",
       "      <th>country</th>\n",
       "      <th>mean_population</th>\n",
       "      <th>mean_female_employment</th>\n",
       "      <th>mean_breast_cancer</th>\n",
       "    </tr>\n",
       "  </thead>\n",
       "  <tbody>\n",
       "    <tr>\n",
       "      <th>110</th>\n",
       "      <td>Nepal</td>\n",
       "      <td>26430000.0</td>\n",
       "      <td>74.68</td>\n",
       "      <td>2299.0</td>\n",
       "    </tr>\n",
       "  </tbody>\n",
       "</table>\n",
       "</div>"
      ],
      "text/plain": [
       "    country  mean_population  mean_female_employment  mean_breast_cancer\n",
       "110   Nepal       26430000.0                   74.68              2299.0"
      ]
     },
     "execution_count": 42,
     "metadata": {},
     "output_type": "execute_result"
    }
   ],
   "source": [
    "#confirming the country with the lowest employment rate\n",
    "larger_female_employment[larger_female_employment['mean_female_employment'] == larger_female_employment['mean_female_employment'].max()]"
   ]
  },
  {
   "cell_type": "code",
   "execution_count": 57,
   "id": "4c80b13d",
   "metadata": {},
   "outputs": [
    {
     "data": {
      "image/png": "[encoded data removed]",
      "text/plain": [
       "<Figure size 2520x1080 with 1 Axes>"
      ]
     },
     "metadata": {
      "needs_background": "light"
     },
     "output_type": "display_data"
    }
   ],
   "source": [
    "#creating chart for the female employment rates in countries with higher rates\n",
    "plt.figure(figsize= (35, 15))\n",
    "smaller_female_employment = final_data[final_data['mean_female_employment'] <= final_data['mean_female_employment'].mean()]\n",
    "plt.bar(smaller_female_employment['country'], smaller_female_employment['mean_female_employment'])\n",
    "plt.xticks(rotation = 90)\n",
    "plt.xlabel('countries')\n",
    "plt.ylabel('mean_female_employment')\n",
    "plt.title('Mean_female_employment rates from 2000 - 2019');\n"
   ]
  },
  {
   "cell_type": "markdown",
   "id": "9883999c",
   "metadata": {},
   "source": [
    "> Saudi Arabia, Libya, Palestine, Iraq and Japan are countries with lower female employment rates, with Libya as the country with the lowest female employment rate of 3.6485%"
   ]
  },
  {
   "cell_type": "code",
   "execution_count": 44,
   "id": "89784346",
   "metadata": {},
   "outputs": [
    {
     "data": {
      "text/html": [
       "<div>\n",
       "<style scoped>\n",
       "    .dataframe tbody tr th:only-of-type {\n",
       "        vertical-align: middle;\n",
       "    }\n",
       "\n",
       "    .dataframe tbody tr th {\n",
       "        vertical-align: top;\n",
       "    }\n",
       "\n",
       "    .dataframe thead th {\n",
       "        text-align: right;\n",
       "    }\n",
       "</style>\n",
       "<table border=\"1\" class=\"dataframe\">\n",
       "  <thead>\n",
       "    <tr style=\"text-align: right;\">\n",
       "      <th></th>\n",
       "      <th>country</th>\n",
       "      <th>mean_population</th>\n",
       "      <th>mean_female_employment</th>\n",
       "      <th>mean_breast_cancer</th>\n",
       "    </tr>\n",
       "  </thead>\n",
       "  <tbody>\n",
       "    <tr>\n",
       "      <th>91</th>\n",
       "      <td>Libya</td>\n",
       "      <td>6094000.0</td>\n",
       "      <td>3.6485</td>\n",
       "      <td>816.95</td>\n",
       "    </tr>\n",
       "  </tbody>\n",
       "</table>\n",
       "</div>"
      ],
      "text/plain": [
       "   country  mean_population  mean_female_employment  mean_breast_cancer\n",
       "91   Libya        6094000.0                  3.6485              816.95"
      ]
     },
     "execution_count": 44,
     "metadata": {},
     "output_type": "execute_result"
    }
   ],
   "source": [
    "#confirming the country with the lowest employment rate\n",
    "smaller_female_employment[smaller_female_employment['mean_female_employment'] == smaller_female_employment['mean_female_employment'].min()]"
   ]
  },
  {
   "cell_type": "markdown",
   "id": "38e119a8",
   "metadata": {},
   "source": [
    "> Nepal records the highest female employment rate with 74.68% while Libya records the lowest female employment rate of 3.6485%   "
   ]
  },
  {
   "cell_type": "markdown",
   "id": "5ddb5056",
   "metadata": {},
   "source": [
    "# Are there any correlation between these three indicators?"
   ]
  },
  {
   "cell_type": "code",
   "execution_count": 56,
   "id": "724e5927",
   "metadata": {},
   "outputs": [
    {
     "data": {
      "image/png": "[encoded data removed]",
      "text/plain": [
       "<Figure size 1080x720 with 1 Axes>"
      ]
     },
     "metadata": {
      "needs_background": "light"
     },
     "output_type": "display_data"
    }
   ],
   "source": [
    "# creating a correlation plot betweeen mean_female_employment and Mean_breast_cancer\n",
    "plt.figure(figsize=(15,10))\n",
    "plt.scatter(final_data['mean_population'], final_data['mean_breast_cancer'])\n",
    "plt.xticks(rotation = 45)\n",
    "plt.xlabel('Total population')\n",
    "plt.ylabel('breast cancer cases')\n",
    "plt.title('correlation between total population and breast cancer cases');\n"
   ]
  },
  {
   "cell_type": "markdown",
   "id": "194ce9a6",
   "metadata": {},
   "source": [
    ">There is a positive correlation between the total population and the number of breast cancer cases, which simply means that a higher population produces more cases of breast cancer."
   ]
  },
  {
   "cell_type": "code",
   "execution_count": 53,
   "id": "e8aad853",
   "metadata": {},
   "outputs": [
    {
     "data": {
      "image/png": "[encoded data removed]",
      "text/plain": [
       "<Figure size 1080x720 with 1 Axes>"
      ]
     },
     "metadata": {
      "needs_background": "light"
     },
     "output_type": "display_data"
    }
   ],
   "source": [
    "#checking the relationship between breast cancer cases and female employment rate\n",
    "plt.figure(figsize = (15, 10))\n",
    "plt.scatter(final_data['mean_breast_cancer'], final_data['mean_female_employment'])\n",
    "plt.xlabel('breast cancer cases')\n",
    "plt.ylabel('female employment rate')\n",
    "plt.title('correlation between breast cancer cases and female employment rate');\n"
   ]
  },
  {
   "cell_type": "markdown",
   "id": "993e9584",
   "metadata": {},
   "source": [
    "> A slightly positive correlation is said to be observed between the female employment rates and the number of breast cancer cases. This could imply that female employments can have a slight impact in the number of breast cancer cases."
   ]
  },
  {
   "cell_type": "code",
   "execution_count": 58,
   "id": "efddc6df",
   "metadata": {},
   "outputs": [
    {
     "data": {
      "image/png": "[encoded data removed]",
      "text/plain": [
       "<Figure size 1080x720 with 1 Axes>"
      ]
     },
     "metadata": {
      "needs_background": "light"
     },
     "output_type": "display_data"
    }
   ],
   "source": [
    "#checking the relationship between population and female employment rate\n",
    "plt.figure(figsize = (15, 10))\n",
    "plt.scatter(final_data['mean_population'], final_data['mean_female_employment'],label = 'mean_female_employment')\n",
    "plt.xlabel('total population')\n",
    "plt.ylabel('female employment rate')\n",
    "plt.title('correlation between population and female employment rates');"
   ]
  },
  {
   "cell_type": "markdown",
   "id": "4da0b57e",
   "metadata": {},
   "source": [
    "> The female employment rates can also slightly be affected by the population, as there is a minimal correlation between the two indicators."
   ]
  },
  {
   "cell_type": "markdown",
   "id": "1479a279",
   "metadata": {},
   "source": [
    "# Conclusion"
   ]
  },
  {
   "cell_type": "markdown",
   "id": "182b5e49",
   "metadata": {},
   "source": [
    "> From the information obtained in our analysis, the following conclusions can be gathered:\n",
    "\n",
    ">- **Correlations:** There is a slight positive relationship between breast cancer cases, the total population and the rate of female employments across the 180 countries.\n",
    "\n",
    ">- **Population and breast cancer rate:** China was seen to have the highest total population of 1,364,500,000 people.\n",
    "\n",
    ">- **Female employment:** Nepal with a mean total population of 26,430,000 has the highest female employment rate of 74.68%. Libya with the mean total population of 6,094,000 recorded the lowest female employment rate of 3.6485%\n",
    "\n",
    ">- **Breast cancer rates:** the highest breast cancer cases of 239,100 was recorded in China, and *Sao Tome and Principe* as the country with the lowest population of 12.45 cases.\n",
    "\n",
    "\n",
    "\n",
    "> **Limitation:**\n",
    ">- There was no direct correlation to indicate the reason for increased or decreased female employment rates across the \n",
    "countries.\n",
    ">- There were Complications in reshaping and merging the raw datasets.\n",
    ">- Lots of uncollected data were observed in the raw datasets leading to unmatched labels after the merge.\n",
    ">- Inconsistent number of countries in the datasets, lead to the dropping of most indicator data entries.\n",
    "\n"
   ]
  },
  {
   "cell_type": "code",
   "execution_count": null,
   "id": "3acf8849",
   "metadata": {},
   "outputs": [],
   "source": []
  }
 ],
 "metadata": {
  "kernelspec": {
   "display_name": "Python 3 (ipykernel)",
   "language": "python",
   "name": "python3"
  },
  "language_info": {
   "codemirror_mode": {
    "name": "ipython",
    "version": 3
   },
   "file_extension": ".py",
   "mimetype": "text/x-python",
   "name": "python",
   "nbconvert_exporter": "python",
   "pygments_lexer": "ipython3",
   "version": "3.9.12"
  }
 },
 "nbformat": 4,
 "nbformat_minor": 5
}
